{
 "cells": [
  {
   "cell_type": "markdown",
   "metadata": {},
   "source": [
    "## Packages\n",
    "\n",
    "Setup multiprocessing (note that cluster needs to be activated)"
   ]
  },
  {
   "cell_type": "code",
   "execution_count": 1,
   "metadata": {},
   "outputs": [],
   "source": [
    "import os\n",
    "# from ipyparallel import Client\n",
    "# rc = Client()\n",
    "# dview = rc[:]\n",
    "\n",
    "# number_of_engines = 8\n",
    "# dview.map(os.chdir, [os.getcwd()]*number_of_engines)"
   ]
  },
  {
   "cell_type": "code",
   "execution_count": 2,
   "metadata": {},
   "outputs": [],
   "source": [
    "# %%px --local\n",
    "import numpy as np\n",
    "import pandas as pd\n",
    "import time\n",
    "from sqr.core.network import local_graph\n",
    "from sqr.main_assign import get_assignment, data_cols"
   ]
  },
  {
   "cell_type": "code",
   "execution_count": 3,
   "metadata": {
    "collapsed": true
   },
   "outputs": [],
   "source": [
    "from tqdm import tqdm\n",
    "import geopandas as gpd\n",
    "from sqr.core.scoring import partition_score\n",
    "from sqr.core.shape import make_gdf_square_data"
   ]
  },
  {
   "cell_type": "markdown",
   "metadata": {},
   "source": [
    "# Multiple engines\n",
    "\n",
    "Make joblist"
   ]
  },
  {
   "cell_type": "code",
   "execution_count": 4,
   "metadata": {},
   "outputs": [],
   "source": [
    "kommuner = gpd.read_file('data/shape/KOMMUNE.shp')\n",
    "\n",
    "mun_pop_min = {}\n",
    "mun_pop_avg = {}\n",
    "mun_cell_count = {}\n",
    "\n",
    "for idx in kommuner.index:\n",
    "    mun_data = \\\n",
    "        pd.read_hdf('data/parsed/sqr_mun.hdf', key='sqidx%i'% idx)\n",
    "    mun_pop_min[idx] = mun_data.minimum.sum()    \n",
    "    mun_pop_avg[idx] = mun_data['mean'].sum()    \n",
    "    mun_cell_count[idx] = mun_data.shape[0]\n",
    "                \n",
    "kommuner['minimum_total'] = pd.Series(mun_pop_min)\n",
    "kommuner['mean_total'] = pd.Series(mun_pop_avg)\n",
    "kommuner['cell_count'] = pd.Series(mun_cell_count)\n",
    "\n",
    "kommuner['to_assign'] = kommuner.minimum_total>100"
   ]
  },
  {
   "cell_type": "code",
   "execution_count": 5,
   "metadata": {},
   "outputs": [],
   "source": [
    "kommuner['density'] = kommuner['mean_total']/kommuner['cell_count']"
   ]
  },
  {
   "cell_type": "code",
   "execution_count": null,
   "metadata": {},
   "outputs": [],
   "source": [
    "# selection = (kommuner.to_assign) & (kommuner.cell_count<5000) #& (kommuner.index<80)\n",
    "selection = kommuner['density'].between(6, 9.999999)\n",
    "selection.sum()"
   ]
  },
  {
   "cell_type": "code",
   "execution_count": 6,
   "metadata": {},
   "outputs": [],
   "source": [
    "# outstore = pd.HDFStore(out_file)\n",
    "# outstore.remove('munidx160')\n",
    "# outstore.remove('munidx218')\n",
    "# outstore.close()"
   ]
  },
  {
   "cell_type": "markdown",
   "metadata": {},
   "source": [
    "### Main settings"
   ]
  },
  {
   "cell_type": "code",
   "execution_count": 7,
   "metadata": {},
   "outputs": [],
   "source": [
    "# main info\n",
    "level = 'submun'\n",
    "mun_indices = kommuner[selection].index.tolist()\n",
    "\n",
    "# additional info\n",
    "trade = True\n",
    "job_list = []\n",
    "num_iter = 0\n",
    "\n",
    "# get input/output references\n",
    "if level == 'mun':\n",
    "    in_file = 'data/parsed/sqr_mun.hdf' \n",
    "    out_file = 'data/candidates.hdf'\n",
    "    \n",
    "elif level == 'submun':    \n",
    "    in_file = 'data/parsed/sqr_mun_sub.hdf'\n",
    "    out_file = 'data/candidates_sub.hdf'\n",
    "    \n",
    "else:\n",
    "    raise ValueError('Must specify level')"
   ]
  },
  {
   "cell_type": "markdown",
   "metadata": {},
   "source": [
    "### Prepare input data"
   ]
  },
  {
   "cell_type": "code",
   "execution_count": null,
   "metadata": {},
   "outputs": [],
   "source": [
    "# get references for input files and select\n",
    "keys = pd.HDFStore(in_file).keys()    \n",
    "keys = pd.DataFrame(data = [(k.split('_')[0][6:], k[6:], k[1:]) for k in keys], \n",
    "                    columns = ['mun_idx','idx','key'])    \n",
    "keys = keys[keys.mun_idx.astype(int).isin(mun_indices)]\n",
    "\n",
    "    \n",
    "mun_pop = {}\n",
    "mun_cell_count = {}\n",
    "\n",
    "years = list(map(str,range(1986,2016)))\n",
    "\n",
    "# load input for processing\n",
    "for (i,row) in keys.iterrows():\n",
    "    df = pd.read_hdf(in_file, key=row.key)        \n",
    "    \n",
    "    if df.shape[0]>1:\n",
    "        try:\n",
    "            accomplished = pd.read_hdf(out_file, key='munidx%s' % row.idx).shape[0]\n",
    "            remain_num_iter = max(0, num_iter - accomplished)\n",
    "            \n",
    "        except:\n",
    "            remain_num_iter = num_iter\n",
    "        \n",
    "        if remain_num_iter > 0:\n",
    "            G = local_graph(df)\n",
    "            big_G = local_graph(df, max_dist=3)\n",
    "            \n",
    "            pop_density = df[years].fillna(0).mean().mean()\n",
    "            pop_count = df[years].sum(0).min()\n",
    "\n",
    "            mun_pop[row.idx] = pop_count\n",
    "            mun_cell_count[row.idx] = df.shape[0]\n",
    "\n",
    "            if pop_count>=100:                \n",
    "                job_list += [(row.idx,df,G,big_G,pop_density,trade) for _ in range(remain_num_iter)]\n",
    "\n",
    "pd.np.random.shuffle(job_list)  \n",
    "print(len(job_list))"
   ]
  },
  {
   "cell_type": "markdown",
   "metadata": {},
   "source": [
    "### Execute joblist"
   ]
  },
  {
   "cell_type": "code",
   "execution_count": 40,
   "metadata": {},
   "outputs": [
    {
     "data": {
      "text/plain": [
       "<AsyncMapResult: get_assignment>"
      ]
     },
     "execution_count": 40,
     "metadata": {},
     "output_type": "execute_result"
    }
   ],
   "source": [
    "dview.map_async(get_assignment, job_list)"
   ]
  },
  {
   "cell_type": "markdown",
   "metadata": {},
   "source": [
    "# Parse temporary files\n",
    "Check for available files"
   ]
  },
  {
   "cell_type": "code",
   "execution_count": null,
   "metadata": {},
   "outputs": [],
   "source": [
    "len(os.listdir('data/temp_output'))"
   ]
  },
  {
   "cell_type": "markdown",
   "metadata": {},
   "source": [
    "Parse data"
   ]
  },
  {
   "cell_type": "code",
   "execution_count": 39,
   "metadata": {},
   "outputs": [],
   "source": [
    "def file_loader(f):\n",
    "    try:\n",
    "        return pd.read_csv('data/temp_output/%s' % f)\n",
    "    except:\n",
    "        return pd.DataFrame()"
   ]
  },
  {
   "cell_type": "code",
   "execution_count": null,
   "metadata": {},
   "outputs": [],
   "source": [
    "files = os.listdir('data/temp_output')\n",
    "if len(files)>0:    \n",
    "    output = pd.concat([file_loader(f) for f in files], axis=0)\n",
    "\n",
    "    by_mun_idx = output.groupby('mun_idx')\n",
    "\n",
    "    old_keys = [k[1:] for k in pd.HDFStore(out_file).keys()]\n",
    "\n",
    "    for idx, df_input in by_mun_idx:        \n",
    "\n",
    "#         print (idx)\n",
    "        if ('munidx%s' % idx) in old_keys:\n",
    "            existing = pd.read_hdf(out_file, key='munidx%s' % idx)\n",
    "            output = pd\\\n",
    "                    .concat([df_input, existing])\\\n",
    "                    .drop_duplicates(subset=['finish_ts'])\n",
    "\n",
    "        else:\n",
    "            output = df_input\n",
    "    #     get_undominated()\n",
    "        output.to_hdf(out_file, key='munidx%s' % idx)\n",
    "\n",
    "    print(len(files))\n",
    "    for f in files: os.remove('data/temp_output/%s' % f)"
   ]
  },
  {
   "cell_type": "code",
   "execution_count": null,
   "metadata": {},
   "outputs": [],
   "source": [
    "old_keys = [k[1:] for k in pd.HDFStore(out_file).keys()]\n",
    "\n",
    "sum([pd.read_hdf(out_file, key=key).shape[0] for key in old_keys])"
   ]
  },
  {
   "cell_type": "markdown",
   "metadata": {},
   "source": [
    "Move to clean hdf"
   ]
  },
  {
   "cell_type": "code",
   "execution_count": 57,
   "metadata": {},
   "outputs": [],
   "source": [
    "args = tuple([os.getcwd()]+out_file.split('/'))\n",
    "\n",
    "file_new = '%s/%s/%s' % args\n",
    "file_old = '%s/%s/old_%s' % args\n",
    "\n",
    "os.rename(file_new, file_old)\n",
    "\n",
    "hdf_old = pd.HDFStore(file_old)\n",
    "hdf_new = pd.HDFStore(file_new)\n",
    "transfer_keys = hdf_old.keys()\n",
    "\n",
    "for key in map(lambda s: s[1:],transfer_keys):\n",
    "    hdf_old.get(key).to_hdf(file_new, key=key)\n",
    "    \n",
    "    \n",
    "hdf_old.close()\n",
    "os.remove(file_old)"
   ]
  },
  {
   "cell_type": "markdown",
   "metadata": {},
   "source": [
    "Get output statistics"
   ]
  },
  {
   "cell_type": "code",
   "execution_count": 15,
   "metadata": {},
   "outputs": [],
   "source": [
    "output_stat = []\n",
    "for idx in kommuner.index:\n",
    "    df = pd.read_hdf('data/parsed/sqr_mun.hdf', 'sqidx%i' % idx)\n",
    "    if df.minimum.sum()>0:\n",
    "        try:        \n",
    "            run_info = pd.read_hdf('data/candidates.hdf', key='munidx%i' % idx)\n",
    "            run_info_trade = run_info#[run_info.trade]\n",
    "            if run_info_trade.shape[0]>0:\n",
    "                output_stat.append([idx, run_info_trade.shape[0], run_info_trade.delta_t.median(),\n",
    "                                    df.minimum.shape[0], int(df.minimum.sum())])\n",
    "        except:\n",
    "            runs = 0\n",
    "#             output_stat.append([idx, runs, df.minimum.shape[0], int(df.minimum.sum())])\n",
    "\n",
    "output_stat = pd.DataFrame(output_stat, columns=['idx','run_count','run_time' ,'cell_count','pop_count'])"
   ]
  },
  {
   "cell_type": "markdown",
   "metadata": {},
   "source": [
    "Plot running time"
   ]
  },
  {
   "cell_type": "code",
   "execution_count": 16,
   "metadata": {},
   "outputs": [
    {
     "data": {
      "text/plain": [
       "(0, 25000.0)"
      ]
     },
     "execution_count": 16,
     "metadata": {},
     "output_type": "execute_result"
    },
    {
     "data": {
      "image/png": "[encoded data removed]",
      "text/plain": [
       "<matplotlib.figure.Figure at 0x7fb385ccbf60>"
      ]
     },
     "metadata": {},
     "output_type": "display_data"
    }
   ],
   "source": [
    "import seaborn as sns\n",
    "%matplotlib inline\n",
    "\n",
    "# output_stat['oko5'] = output_stat.cell_count>3000\n",
    "\n",
    "fig = sns.lmplot(y='run_time',x='cell_count',order=2,data=output_stat)\n",
    "\n",
    "sns.plt.xlim(0,)\n",
    "sns.plt.ylim(0,)\n",
    "# fig.savefig('runtime_cellcount.pdf')"
   ]
  }
 ],
 "metadata": {
  "anaconda-cloud": {},
  "kernelspec": {
   "display_name": "Python 3",
   "language": "python",
   "name": "python3"
  },
  "language_info": {
   "codemirror_mode": {
    "name": "ipython",
    "version": 3
   },
   "file_extension": ".py",
   "mimetype": "text/x-python",
   "name": "python",
   "nbconvert_exporter": "python",
   "pygments_lexer": "ipython3",
   "version": "3.6.1"
  }
 },
 "nbformat": 4,
 "nbformat_minor": 1
}
