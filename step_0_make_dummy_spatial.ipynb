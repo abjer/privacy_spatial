{
 "cells": [
  {
   "cell_type": "markdown",
   "metadata": {},
   "source": [
    "# STEP 0: Generate dummy grid data\n",
    "\n",
    "We create dummy data for spatial grids for households. The grid data matches local data from Parish population data and distributes the population evenly according to number of adresses per grid cell.\n",
    "\n",
    "You can change the list of municipalities, `dummy_mun_codes`, as well as and change the `dummy_compute` variable in the [config file](sqr/core/config.py). \n",
    "\n",
    "\n",
    "# Load packages"
   ]
  },
  {
   "cell_type": "code",
   "execution_count": 1,
   "metadata": {},
   "outputs": [],
   "source": [
    "import os\n",
    "\n",
    "import fiona\n",
    "import geopandas as gpd\n",
    "import matplotlib.pyplot as plt\n",
    "import numpy as np\n",
    "import pandas as pd\n",
    "import shapely\n",
    "\n",
    "from shapely.geometry import box\n",
    "from tqdm import tqdm\n",
    "\n",
    "%matplotlib inline"
   ]
  },
  {
   "cell_type": "markdown",
   "metadata": {},
   "source": [
    "# Municipality data"
   ]
  },
  {
   "cell_type": "code",
   "execution_count": 2,
   "metadata": {},
   "outputs": [],
   "source": [
    "kommuner = gpd.read_file('https://dawa.aws.dk/kommuner?format=geojson')\\\n",
    "                .to_crs(epsg=25832)"
   ]
  },
  {
   "cell_type": "markdown",
   "metadata": {},
   "source": [
    "# Parse parish data"
   ]
  },
  {
   "cell_type": "markdown",
   "metadata": {},
   "source": [
    "### DST parish population"
   ]
  },
  {
   "cell_type": "code",
   "execution_count": 3,
   "metadata": {},
   "outputs": [],
   "source": [
    "import requests\n",
    "from io import StringIO\n",
    "from copy import deepcopy\n",
    "\n",
    "import pandas as pd\n",
    "\n",
    "dst_api_base = 'https://api.statbank.dk/v1/data/%s/csv?'\n",
    "options_base =  {'valuePresentation':'Default',\n",
    "                'timeOrder':'Ascending',\n",
    "                'allowVariablesInHead':'true'}\n",
    "\n",
    "def dst_api_dataframe(dataset, options_input={}, print_url=False):    \n",
    "    '''\n",
    "    This function produces a dataframe for the desired \n",
    "    Statistics Denmark (DST) table. It can be specified \n",
    "    to pull particular columns.\n",
    "    \n",
    "    Parameters\n",
    "    ----------\n",
    "    dataset : str\n",
    "        DST name/code table to fetch\n",
    "    options_input : dict, optional\n",
    "        The extra options can be speficied to pull particular\n",
    "        column values. E.g. {'ABC':'*'} will return all values \n",
    "        of the column 'ABC'. Note specific column values \n",
    "        requires separation with comma_char, see example below.\n",
    "        \n",
    "    Returns    \n",
    "    -------\n",
    "    df_out : pandas.DataFrame\n",
    "        Table with desired formatted as a pandas DataFrame.\n",
    "    '''\n",
    "    \n",
    "    url = dst_api_base % dataset\n",
    "    \n",
    "    options = deepcopy(options_base)\n",
    "    \n",
    "    for k, v in options_input.items():\n",
    "        options[k] = v\n",
    "    \n",
    "    for k, v in options.items():\n",
    "        url += '%s=%s&' % (k,v) \n",
    "        \n",
    "    if print_url: print(url[:-1])\n",
    "        \n",
    "    response = requests.get(url[:-1])\n",
    "    \n",
    "    df_out = pd.read_csv(StringIO(response.text), sep=';') \n",
    "    \n",
    "    return df_out \n",
    "    \n"
   ]
  },
  {
   "cell_type": "markdown",
   "metadata": {},
   "source": [
    "Fetch DST data"
   ]
  },
  {
   "cell_type": "code",
   "execution_count": 4,
   "metadata": {},
   "outputs": [
    {
     "name": "stdout",
     "output_type": "stream",
     "text": [
      "https://api.statbank.dk/v1/data/KM5/csv?valuePresentation=Default&timeOrder=Ascending&allowVariablesInHead=true&SOGN=*&TID=2020\n"
     ]
    }
   ],
   "source": [
    "area = '*' # all parish\n",
    "ages = '*'\n",
    "time = [2020]\n",
    "\n",
    "comma_char = '%2C' # separation character for making url\n",
    "\n",
    "request_options =  {'SOGN': area, \n",
    "                    'TID': comma_char.join(map(str, time))}\n",
    "    \n",
    "pop = dst_api_dataframe('KM5', options_input=request_options)\\\n",
    "        .rename(columns={'INDHOLD':'antal_pers'})\\\n",
    "        .assign(kode = lambda df: df.SOGN.str[:4])"
   ]
  },
  {
   "cell_type": "markdown",
   "metadata": {},
   "source": [
    "### Fetch parish shape files and merge with population"
   ]
  },
  {
   "cell_type": "code",
   "execution_count": 5,
   "metadata": {},
   "outputs": [],
   "source": [
    "sogne = gpd.read_file('https://dawa.aws.dk/sogne?format=geojson')\\\n",
    "            .to_crs(epsg=25832)\n",
    "\n",
    "\n",
    "sogne_pop = sogne.merge(pop)"
   ]
  },
  {
   "cell_type": "markdown",
   "metadata": {},
   "source": [
    "# Within municipalities\n",
    "Choice of municipality"
   ]
  },
  {
   "cell_type": "code",
   "execution_count": 6,
   "metadata": {},
   "outputs": [],
   "source": [
    "from sqr.core.config import years_num\n",
    "from sqr.core.shape import make_spatial_grid #MHG tilføjet\n",
    "ymin=min(years_num) \n",
    "ymax=max(years_num)\n",
    "\n",
    "def get_col_names(label):\n",
    "    return [f'antal_{label}_{y}' for y in range(ymin, ymax+1)]\n",
    "\n",
    "def spatial_grid_pop_households(komkode):    \n",
    "    '''\n",
    "    Loads address data for municipality to infer grid level\n",
    "    counts of households and individuals. \n",
    "    \n",
    "    Parameters\n",
    "    -----------\n",
    "    komkode: int\n",
    "        municipal code\n",
    "    '''\n",
    "\n",
    "\n",
    "    ########################\n",
    "    # Spatial data process #\n",
    "    ########################\n",
    "\n",
    "    # construct grid\n",
    "\n",
    "    grid = make_spatial_grid(kommuner[kommuner.kode==f'0{komkode}'])\n",
    "\n",
    "    # load addresses \n",
    "    # NOTE: historic addresses can be loaded using `f'http://dawa.aws.dk/historik/adresser?kommunekode={komkode}'`\n",
    "    adr = pd.read_json(f'http://dawa.aws.dk/adresser?kommunekode={komkode}')\n",
    "\n",
    "\n",
    "    #############################\n",
    "    # Counts by grid and parish #\n",
    "    #############################\n",
    "\n",
    "    # count addresses per square net cell\n",
    "    adr_kn = adr\\\n",
    "        .groupby(adr.adgangsadresse.str['DDKN'].str['m100'].rename('DDKNm100'))\\\n",
    "        .size()\\\n",
    "        .rename('antal_adr')\\\n",
    "        .reset_index()\n",
    "\n",
    "    # count households and individuals by parish\n",
    "    sogn_adr_antal = adr.groupby(adr.adgangsadresse.str['sogn'].str['kode'].rename('kode')).size().rename('antal_adr_sogn')\n",
    "    sogne_pop_kom = sogne_pop.merge(sogn_adr_antal.reset_index())    \n",
    "    sogne_pop_kom['husstande_est'] = (sogne_pop_kom.antal_pers/2).round(0)\n",
    "    sogne_pop_kom['husstand_per_adr'] = sogne_pop_kom['husstande_est']/sogne_pop_kom['antal_adr_sogn']\n",
    "    sogne_pop_kom['pers_per_adr'] = sogne_pop_kom['antal_pers']/sogne_pop_kom['antal_adr_sogn']\n",
    "    \n",
    "\n",
    "    #######################################\n",
    "    # Combine data sources to infer count #\n",
    "    # of households and individuals       #\n",
    "    #######################################\n",
    "\n",
    "\n",
    "    grid_adr = \\\n",
    "        grid.merge(adr_kn,how='left')\\\n",
    "            .assign(antal_adr = lambda df: df.antal_adr.fillna(0))\n",
    "    \n",
    "    data_kom = gpd.sjoin(grid_adr, sogne_pop_kom[['geometry', 'husstand_per_adr','pers_per_adr']])\\\n",
    "                    .reset_index(drop=True)    \n",
    "    \n",
    "    # compute expected number of individuals and household per grid celles \n",
    "    count_household = (data_kom.antal_adr*data_kom.husstand_per_adr).values\n",
    "    count_ind = (data_kom.antal_adr*data_kom.pers_per_adr).values\n",
    "\n",
    "    # draw poisson numbers using expectation\n",
    "    count_df = \\\n",
    "        pd.concat(\n",
    "            [pd.DataFrame(\n",
    "                data = np.random.poisson(lam=np.tile(vals.reshape(-1,1), (1,10))),\n",
    "                columns = get_col_names(label)\n",
    "                )\n",
    "             for label, vals in [('hh', count_household), ('ind', count_ind)]\n",
    "            ], axis=1, sort=False)\n",
    "\n",
    "    output = data_kom.join(count_df)\n",
    "\n",
    "    return output"
   ]
  },
  {
   "cell_type": "markdown",
   "metadata": {},
   "source": [
    "Process data for municipalities"
   ]
  },
  {
   "cell_type": "code",
   "execution_count": 8,
   "metadata": {},
   "outputs": [
    {
     "name": "stderr",
     "output_type": "stream",
     "text": [
      "C:\\Users\\bvq720\\AppData\\Local\\Continuum\\anaconda3\\envs\\privacy_spatial\\lib\\site-packages\\pyproj\\crs\\crs.py:53: FutureWarning: '+init=<authority>:<code>' syntax is deprecated. '<authority>:<code>' is the preferred initialization method. When making the change, be mindful of axis order changes: https://pyproj4.github.io/pyproj/stable/gotchas.html#axis-order-changes-in-proj-6\n",
      "  return _prepare_from_string(\" \".join(pjargs))\n",
      "C:\\Users\\bvq720\\AppData\\Local\\Continuum\\anaconda3\\envs\\privacy_spatial\\lib\\site-packages\\pyproj\\crs\\crs.py:53: FutureWarning: '+init=<authority>:<code>' syntax is deprecated. '<authority>:<code>' is the preferred initialization method. When making the change, be mindful of axis order changes: https://pyproj4.github.io/pyproj/stable/gotchas.html#axis-order-changes-in-proj-6\n",
      "  return _prepare_from_string(\" \".join(pjargs))\n",
      "C:\\Users\\bvq720\\AppData\\Local\\Continuum\\anaconda3\\envs\\privacy_spatial\\lib\\site-packages\\pyproj\\crs\\crs.py:53: FutureWarning: '+init=<authority>:<code>' syntax is deprecated. '<authority>:<code>' is the preferred initialization method. When making the change, be mindful of axis order changes: https://pyproj4.github.io/pyproj/stable/gotchas.html#axis-order-changes-in-proj-6\n",
      "  return _prepare_from_string(\" \".join(pjargs))\n",
      "C:\\Users\\bvq720\\AppData\\Local\\Continuum\\anaconda3\\envs\\privacy_spatial\\lib\\site-packages\\pyproj\\crs\\crs.py:53: FutureWarning: '+init=<authority>:<code>' syntax is deprecated. '<authority>:<code>' is the preferred initialization method. When making the change, be mindful of axis order changes: https://pyproj4.github.io/pyproj/stable/gotchas.html#axis-order-changes-in-proj-6\n",
      "  return _prepare_from_string(\" \".join(pjargs))\n",
      "C:\\Users\\bvq720\\AppData\\Local\\Continuum\\anaconda3\\envs\\privacy_spatial\\lib\\site-packages\\pyproj\\crs\\crs.py:53: FutureWarning: '+init=<authority>:<code>' syntax is deprecated. '<authority>:<code>' is the preferred initialization method. When making the change, be mindful of axis order changes: https://pyproj4.github.io/pyproj/stable/gotchas.html#axis-order-changes-in-proj-6\n",
      "  return _prepare_from_string(\" \".join(pjargs))\n"
     ]
    }
   ],
   "source": [
    "from sqr.core.config import dummy_mun_codes\n",
    "\n",
    "os.makedirs('data/dummy/', exist_ok=True)\n",
    "\n",
    "for komkode in dummy_mun_codes:\n",
    "    gdf = spatial_grid_pop_households(komkode)\n",
    "    gdf.to_file(f'data/dummy/{komkode}.geojson', driver=\"GeoJSON\")"
   ]
  },
  {
   "cell_type": "markdown",
   "metadata": {},
   "source": [
    "Construct joint data frame to fit into pipeline"
   ]
  },
  {
   "cell_type": "code",
   "execution_count": 55,
   "metadata": {},
   "outputs": [],
   "source": [
    "os.makedirs('data/raw/', exist_ok=True)\n",
    "\n",
    "raw = dict(ind=[], hh=[])\n",
    "for komkode in dummy_mun_codes:\n",
    "    gdf = gpd.read_file(f'data/dummy/{komkode}.geojson')\\\n",
    "            .drop_duplicates(subset=['e','n'])\n",
    "    for label in ('ind', 'hh'):\n",
    "        col_names = get_col_names(label)\n",
    "        col_map = dict(zip(col_names, list(range(ymin,ymax+1))))\n",
    "        raw[label].append(\n",
    "            gdf\\\n",
    "            .loc[:,['DDKNm100']+col_names]\\\n",
    "            .rename(columns=col_map)\\\n",
    "            .pipe(lambda df: df[df[range(ymin,ymax)].max(1)>0]))\n",
    "            \n",
    "pd.concat(raw['ind']).to_csv('data/raw/ind_dummy.csv',index=False)        \n",
    "pd.concat(raw['hh']).to_csv('data/raw/hh_dummy.csv',index=False)        "
   ]
  },
  {
   "cell_type": "markdown",
   "metadata": {},
   "source": [
    "Sanity check: plot Frederiksberg and Bornholm"
   ]
  },
  {
   "cell_type": "code",
   "execution_count": 13,
   "metadata": {},
   "outputs": [
    {
     "data": {
      "text/plain": [
       "<AxesSubplot:>"
      ]
     },
     "execution_count": 13,
     "metadata": {},
     "output_type": "execute_result"
    },
    {
     "data": {
      "image/png": "[encoded data removed]",
      "text/plain": [
       "<Figure size 432x288 with 1 Axes>"
      ]
     },
     "metadata": {
      "needs_background": "light"
     },
     "output_type": "display_data"
    }
   ],
   "source": [
    "gpd.read_file(f'data/dummy/147.geojson').set_crs(epsg=25832,allow_override=True).plot()"
   ]
  },
  {
   "cell_type": "code",
   "execution_count": 15,
   "metadata": {},
   "outputs": [
    {
     "data": {
      "text/plain": [
       "Text(0.5, 1.0, 'Bornholm')"
      ]
     },
     "execution_count": 15,
     "metadata": {},
     "output_type": "execute_result"
    },
    {
     "data": {
      "image/png": "[encoded data removed]",
      "text/plain": [
       "<Figure size 864x288 with 4 Axes>"
      ]
     },
     "metadata": {
      "needs_background": "light"
     },
     "output_type": "display_data"
    }
   ],
   "source": [
    "def plot_mun(mun_code, ax):    \n",
    "    gpd.read_file(f'data/dummy/{mun_code}.geojson')\\\n",
    "    .drop_duplicates(subset=['e','n'])\\\n",
    "    .set_crs(epsg=25832,allow_override=True)\\\n",
    "    .plot(column='antal_ind_2019',legend=True,ax=ax)\n",
    "    \n",
    "f,ax = plt.subplots(1,2,figsize=(12,4))\n",
    "\n",
    "plot_mun(147, ax[0])\n",
    "plot_mun(400, ax[1])\n",
    "\n",
    "ax[0].set_title('Frederiksberg')\n",
    "ax[1].set_title('Bornholm')"
   ]
  }
 ],
 "metadata": {
  "kernelspec": {
   "display_name": "privacy_spatial",
   "language": "python",
   "name": "privacy_spatial"
  },
  "language_info": {
   "codemirror_mode": {
    "name": "ipython",
    "version": 3
   },
   "file_extension": ".py",
   "mimetype": "text/x-python",
   "name": "python",
   "nbconvert_exporter": "python",
   "pygments_lexer": "ipython3",
   "version": "3.7.10"
  }
 },
 "nbformat": 4,
 "nbformat_minor": 4
}
