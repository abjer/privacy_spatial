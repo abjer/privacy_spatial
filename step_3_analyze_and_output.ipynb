{
 "cells": [
  {
   "cell_type": "markdown",
   "metadata": {},
   "source": [
    "# STEP 3: Analyze candidates and select optimal partition\n",
    "\n",
    "This is the final step where the output partitions are collected. From the collected partitions the ones that score best in terms of highest spatial precision and fewest missing values are selected.\n",
    "\n",
    "# Packages"
   ]
  },
  {
   "cell_type": "code",
   "execution_count": 1,
   "metadata": {},
   "outputs": [],
   "source": [
    "import itertools\n",
    "import json\n",
    "import os\n",
    "\n",
    "import matplotlib.pyplot as plt\n",
    "import pandas as pd\n",
    "import numpy as np\n",
    "import geopandas as gpd\n",
    "import seaborn as sns\n",
    "from tqdm import tqdm\n",
    "# from itertools import chain\n",
    "\n",
    "from sqr.core.network import partition_surjective\n",
    "from sqr.core.scoring import partition_score, get_undominated\n",
    "from sqr.core.shape import  make_gdf_square_data\n",
    "from sqr.miscellaneous import read_parse_mun\n",
    "from sqr.core.config import cell_label, years\n",
    "\n",
    "%matplotlib inline"
   ]
  },
  {
   "cell_type": "markdown",
   "metadata": {},
   "source": [
    "# Load data \n",
    "\n",
    "#### Municipal data \n",
    "\n",
    "This data consists of the shape files for municipalities and muncipality data parsed to have square net information. "
   ]
  },
  {
   "cell_type": "code",
   "execution_count": 2,
   "metadata": {},
   "outputs": [],
   "source": [
    "gdf_kommuner = read_parse_mun()"
   ]
  },
  {
   "cell_type": "markdown",
   "metadata": {},
   "source": [
    "#### Preprocessed data \n",
    "\n",
    "This data consists of the output from running 'Step 1: run assignments.'"
   ]
  },
  {
   "cell_type": "code",
   "execution_count": 3,
   "metadata": {},
   "outputs": [],
   "source": [
    "other = 'data/temp_from_other/'\n",
    "main = 'data/'\n",
    "pareto = 'data/pareto/'\n",
    "\n",
    "othernames = {'candidates_sub.hdf':['candidates_sub_aws.hdf','candidates_sub_mac.hdf','candidates_sub_oko4.hdf'],\n",
    "              'candidates.hdf':['candidates_aws.hdf']}\n",
    "\n",
    "filenames = {'candidates.hdf':['pareto.hdf','parsed/sqr_mun.hdf'], \n",
    "             'candidates_sub.hdf':['pareto_sub.hdf','parsed/sqr_mun_sub.hdf']}\n"
   ]
  },
  {
   "cell_type": "markdown",
   "metadata": {},
   "source": [
    "### Merge multiple sources (optional)\n",
    "If running the computation across multiple machines then various files can be merged. The code below may be helpful."
   ]
  },
  {
   "cell_type": "code",
   "execution_count": 4,
   "metadata": {},
   "outputs": [],
   "source": [
    "# def attemp_read(in_file, input_key):\n",
    "#     try:\n",
    "#         return pd.read_hdf(in_file, key=input_key)\n",
    "#     except:\n",
    "#         return pd.DataFrame()"
   ]
  },
  {
   "cell_type": "code",
   "execution_count": 5,
   "metadata": {},
   "outputs": [],
   "source": [
    "# # list of files with output\n",
    "# candidate files = 'candidates.hdf', 'candidates_sub.hdf'\n",
    "\n",
    "# for filename in ['candidates.hdf']:\n",
    "    \n",
    "    \n",
    "#     out_file = main+filename\n",
    "    \n",
    "#     in_files = [other+f for f in othernames[filename]]\n",
    "#     input_keys = list(set(chain(*[pd.HDFStore(in_file).keys() for in_file in in_files])))\n",
    "\n",
    "\n",
    "#     for input_key in input_keys:    \n",
    "#         in_list = [attemp_read(f, input_key) for f in in_files]    \n",
    "#         input_df = pd.concat(in_list)\n",
    "        \n",
    "#         try:\n",
    "#             existing = pd.read_hdf(out_file, key=input_key)\n",
    "#             out = pd\\\n",
    "#                     .concat([input_df, existing])\\\n",
    "#                     .drop_duplicates(subset='finish_ts')\n",
    "#         except:\n",
    "#             out = input_df\n",
    "        \n",
    "#         out.to_hdf(out_file, key=input_key)"
   ]
  },
  {
   "cell_type": "markdown",
   "metadata": {},
   "source": [
    "# Select pareto"
   ]
  },
  {
   "cell_type": "markdown",
   "metadata": {},
   "source": [
    "Compute Pareto frontier"
   ]
  },
  {
   "cell_type": "code",
   "execution_count": 6,
   "metadata": {},
   "outputs": [
    {
     "name": "stdout",
     "output_type": "stream",
     "text": [
      "/munidx219 data/pareto.hdf\n"
     ]
    },
    {
     "name": "stderr",
     "output_type": "stream",
     "text": [
      "C:\\Users\\bvq720\\Anaconda3\\envs\\privacy_spatial\\lib\\site-packages\\pandas\\core\\generic.py:2621: PerformanceWarning: \n",
      "your performance may suffer as PyTables will pickle object types that it cannot\n",
      "map directly to c-types [inferred_type->mixed-integer,key->block0_values] [items->Index(['mun_idx', 'partition'], dtype='object')]\n",
      "\n",
      "  encoding=encoding,\n"
     ]
    },
    {
     "name": "stdout",
     "output_type": "stream",
     "text": [
      "/munidx250 data/pareto.hdf\n",
      "/munidx251 data/pareto.hdf\n",
      "/munidx290 data/pareto.hdf\n",
      "/munidx179_0 data/pareto_sub.hdf\n",
      "/munidx179_1 data/pareto_sub.hdf\n",
      "/munidx179_10 data/pareto_sub.hdf\n",
      "/munidx179_11 data/pareto_sub.hdf\n",
      "/munidx179_13 data/pareto_sub.hdf\n",
      "/munidx179_14 data/pareto_sub.hdf\n",
      "/munidx179_15 data/pareto_sub.hdf\n",
      "/munidx179_16 data/pareto_sub.hdf\n",
      "/munidx179_17 data/pareto_sub.hdf\n",
      "/munidx179_18 data/pareto_sub.hdf\n",
      "/munidx179_19 data/pareto_sub.hdf\n",
      "/munidx179_2 data/pareto_sub.hdf\n",
      "/munidx179_20 data/pareto_sub.hdf\n",
      "/munidx179_21 data/pareto_sub.hdf\n",
      "/munidx179_22 data/pareto_sub.hdf\n",
      "/munidx179_23 data/pareto_sub.hdf\n",
      "/munidx179_24 data/pareto_sub.hdf\n",
      "/munidx179_3 data/pareto_sub.hdf\n",
      "/munidx179_4 data/pareto_sub.hdf\n",
      "/munidx179_5 data/pareto_sub.hdf\n",
      "/munidx179_6 data/pareto_sub.hdf\n",
      "/munidx179_7 data/pareto_sub.hdf\n",
      "/munidx179_8 data/pareto_sub.hdf\n",
      "/munidx179_9 data/pareto_sub.hdf\n"
     ]
    }
   ],
   "source": [
    "for filename in ['candidates.hdf','candidates_sub.hdf']:\n",
    "    \n",
    "    in_file = main+filename\n",
    "    out_file = main+filenames[filename][0]\n",
    "    \n",
    "    datastore = pd.HDFStore(in_file)\n",
    "    datakeys = list(datastore.keys())\n",
    "    datastore.close()\n",
    "    \n",
    "    for input_key in datakeys:\n",
    "        print(input_key, out_file)\n",
    "        input_df = pd.read_hdf(in_file, key=input_key)\n",
    "        input_df = input_df.reset_index(drop=True)\n",
    "        \n",
    "        if input_df.shape[0]>1:\n",
    "            out = get_undominated(input_df)\n",
    "        else:\n",
    "            out = input_df\n",
    "        \n",
    "        out.to_hdf(out_file, key=input_key)"
   ]
  },
  {
   "cell_type": "markdown",
   "metadata": {},
   "source": [
    "# Choose best partitions"
   ]
  },
  {
   "cell_type": "code",
   "execution_count": 7,
   "metadata": {},
   "outputs": [],
   "source": [
    "def chain(l):\n",
    "    return list(itertools.chain(*l))"
   ]
  },
  {
   "cell_type": "markdown",
   "metadata": {},
   "source": [
    "Load populations"
   ]
  },
  {
   "cell_type": "code",
   "execution_count": 8,
   "metadata": {},
   "outputs": [],
   "source": [
    "mun_pers = {}\n",
    "mun_indices = {}\n",
    "\n",
    "in_file = main+'candidates_sub.hdf'\n",
    "mun_file = main+'parsed/sqr_mun_sub.hdf'\n",
    "\n",
    "datastore = pd.HDFStore(in_file)\n",
    "datakeys = list(datastore.keys())\n",
    "datastore.close()\n",
    "\n",
    "for input_key in datakeys:\n",
    "    idx = input_key[7:]\n",
    "    input_df = pd.read_hdf(in_file, key=input_key)\n",
    "    mun_df = pd.read_hdf(mun_file, key='sqidx'+idx)\n",
    "\n",
    "    mun_pers[idx] = mun_df.minimum_pers.sum()\n",
    "    mun_indices[idx] = mun_df[cell_label].to_dict()\n",
    "    \n",
    "mun_file = main+'parsed/sqr_mun.hdf'    \n",
    "datastore = pd.HDFStore(mun_file)\n",
    "datakeys = list(datastore.keys())\n",
    "datastore.close()\n",
    "    \n",
    "for input_key in datakeys:\n",
    "    idx = input_key[6:]\n",
    "    mun_df = pd.read_hdf(mun_file, key=input_key)\n",
    "    mun_pers[idx] = mun_df.minimum_pers.sum()\n",
    "    mun_indices[idx] = mun_df[cell_label].to_dict()"
   ]
  },
  {
   "cell_type": "markdown",
   "metadata": {},
   "source": [
    "Load optimal partition mun-level"
   ]
  },
  {
   "cell_type": "code",
   "execution_count": 9,
   "metadata": {},
   "outputs": [],
   "source": [
    "in_file = main+'pareto.hdf'\n",
    "datastore = pd.HDFStore(in_file)\n",
    "datakeys = list(datastore.keys())\n",
    "datastore.close()\n",
    "\n",
    "\n",
    "pareto = pd.concat([pd.read_hdf(in_file, k) for k in datakeys]).reset_index()\n",
    "pareto.mun_idx = pareto.mun_idx.astype(int).astype(str)\n",
    "pareto['score'] = pareto.apply(lambda row: partition_score(row.weighted_dist, \n",
    "                                                           row.count_nonzero_null, \n",
    "                                                           mun_pers[row.mun_idx]), \n",
    "                               axis=1)\n",
    "optimals_idx = pareto.groupby('mun_idx').score.idxmax()\n",
    "optimals = pareto.loc[optimals_idx]\n",
    "optimals.partition = optimals.partition.apply(json.loads)"
   ]
  },
  {
   "cell_type": "markdown",
   "metadata": {},
   "source": [
    "Load optimal partition sub mun-level"
   ]
  },
  {
   "cell_type": "code",
   "execution_count": 10,
   "metadata": {},
   "outputs": [],
   "source": [
    "in_file = main+'pareto_sub.hdf'\n",
    "datastore = pd.HDFStore(in_file)\n",
    "datakeys = list(datastore.keys())\n",
    "datastore.close()\n",
    "\n",
    "\n",
    "pareto_sub = pd.concat([pd.read_hdf(in_file, k) for k in datakeys]).reset_index()\n",
    "pareto_sub['score'] = pareto_sub\\\n",
    "                        .apply(lambda row: partition_score(row.weighted_dist, \n",
    "                                                           row.count_nonzero_null, \n",
    "                                                           mun_pers[row.mun_idx]),axis=1)\n",
    "\n",
    "optimals_idx_sub = pareto_sub.groupby('mun_idx').score.idxmax()\n",
    "\n",
    "optimals_sub = pareto_sub.loc[optimals_idx_sub.values].copy()\n",
    "optimals_sub['pop_count'] = optimals_sub.mun_idx.apply(lambda m: mun_pers[m])\n",
    "optimals_sub['mun'] = optimals_sub.mun_idx.apply(lambda s: s.split('_')[0])\n",
    "optimals_sub.partition = optimals_sub.partition.apply(json.loads)\n",
    "\n",
    "# remove køge\n",
    "# optimals_sub = optimals_sub[~(optimals_sub['mun']=='163')]\n",
    "\n",
    "gb_idx = optimals_sub.groupby('mun')\n",
    "pop_sum = gb_idx.pop_count.sum()\n",
    "na_sum = gb_idx.pers_nonzero_null.sum()\n",
    "w_dist = gb_idx.apply(lambda g: (g.weighted_dist*g.pop_count).sum()/g.pop_count.sum())\n",
    "partitions = gb_idx.partition.apply(chain)\n",
    "\n",
    "\n",
    "optimals_sub_merg = pd.concat([na_sum,\n",
    "                               pop_sum,\n",
    "                               w_dist.rename('weighted_dist'),\n",
    "                               partitions.rename('partition')],axis=1)\n",
    "\n",
    "optimals_sub_merg['score'] = \\\n",
    "    optimals_sub_merg.apply(lambda row: partition_score(row.weighted_dist, \n",
    "                                                    row.pers_nonzero_null, \n",
    "                                                    row.pop_count),axis=1)"
   ]
  },
  {
   "cell_type": "markdown",
   "metadata": {},
   "source": [
    "Comparison of partitions"
   ]
  },
  {
   "cell_type": "code",
   "execution_count": 11,
   "metadata": {},
   "outputs": [],
   "source": [
    "merge_cols = ['score','partition','pers_nonzero_null','weighted_dist']\n",
    "opt_mun = optimals.set_index('mun_idx')[merge_cols]\n",
    "opt_sub = optimals_sub_merg[merge_cols]                              \n",
    "\n",
    "merge = opt_mun.merge(opt_sub, how='outer', left_index=True,right_index=True).copy()\n",
    "merge[['score_x','score_y']] = merge[['score_x','score_y']].fillna(-1)"
   ]
  },
  {
   "cell_type": "code",
   "execution_count": 12,
   "metadata": {},
   "outputs": [],
   "source": [
    "def get_label(mun_idx, idx):\n",
    "    return mun_indices[mun_idx][idx]\n",
    "\n",
    "def get_labels(mun_idx, partition):\n",
    "    return [[get_label(mun_idx,i) for i in g] for g in partition]"
   ]
  },
  {
   "cell_type": "markdown",
   "metadata": {},
   "source": [
    "Select maximal scoring partitoin"
   ]
  },
  {
   "cell_type": "code",
   "execution_count": 13,
   "metadata": {},
   "outputs": [],
   "source": [
    "optimal_indices = merge.apply(lambda row: row.partition_x if row.score_x>row.score_y else row.partition_y, axis=1)\n",
    "\n",
    "optimal_labels =  optimal_indices\\\n",
    "                    .reset_index()\\\n",
    "                    .rename(columns={'index':'mun_idx',0:'partition'})\\\n",
    "                    .apply(lambda row: get_labels(str(row.mun_idx),row.partition),axis=1)\n",
    "\n",
    "optimal_labels.index = optimal_indices.index.to_series().astype(int)\n",
    "optimal_labels.sort_index(inplace=True)            \n",
    "            \n",
    "optimal_labels_one = list(itertools.chain(*optimal_labels.tolist()))"
   ]
  },
  {
   "cell_type": "code",
   "execution_count": 14,
   "metadata": {},
   "outputs": [],
   "source": [
    "os.makedirs('data/output_final/', exist_ok=True)\n",
    "\n",
    "with open ('data/output_final/partition.json', 'w') as f:\n",
    "    f.write(json.dumps(optimal_labels_one))"
   ]
  },
  {
   "cell_type": "markdown",
   "metadata": {},
   "source": [
    "# Analyze optimal partition"
   ]
  },
  {
   "cell_type": "code",
   "execution_count": 15,
   "metadata": {},
   "outputs": [],
   "source": [
    "# optimal_miss = merge.apply(lambda row: row.pop_nonzero_null_x if row.score_x>row.score_y else row.pop_nonzero_null_y, axis=1)\n",
    "# optimal_dist = merge.apply(lambda row: row.weighted_dist_x if row.score_x>row.score_y else row.weighted_dist_y, axis=1)\n",
    "\n",
    "# optimal_stat = pd\\\n",
    "#                 .concat([optimal_miss,pd.Series(mun_pop),optimal_dist],axis=1)\\\n",
    "#                 .dropna()\\\n",
    "#                 .rename(columns={0:'miss',1:'total',2:'dist'})\n",
    "            \n",
    "# optimal_stat.index = optimal_stat.index.to_series().astype(int)\n",
    "\n",
    "# optimal_stat.sort_index().to_csv('data/output_final/statistics.csv')"
   ]
  },
  {
   "cell_type": "markdown",
   "metadata": {},
   "source": [
    "Check no duplicated"
   ]
  },
  {
   "cell_type": "code",
   "execution_count": 16,
   "metadata": {},
   "outputs": [
    {
     "data": {
      "text/plain": [
       "0"
      ]
     },
     "execution_count": 16,
     "metadata": {},
     "output_type": "execute_result"
    }
   ],
   "source": [
    "assignment_opt = pd.DataFrame([(i,j) for i,p in enumerate(optimal_labels_one) for j in p],\n",
    "                              columns=['partition',cell_label])\n",
    "is_assigned = list(itertools.chain(*optimal_labels_one))\n",
    "is_assigned_ser = pd.Series(is_assigned)\n",
    "is_assigned_ser.duplicated().sum()"
   ]
  },
  {
   "cell_type": "markdown",
   "metadata": {},
   "source": [
    "Count population in partitions"
   ]
  },
  {
   "cell_type": "code",
   "execution_count": 19,
   "metadata": {},
   "outputs": [],
   "source": [
    "distribution = {'hh':{}, 'pers':{}}\n",
    "for label in 'hh', 'pers':\n",
    "\n",
    "    pop_data = pd.read_hdf('data/parsed/KN100m_pop.hdf', key=label)\n",
    "\n",
    "    assignment = dict([(i,g_idx) for g_idx,g in enumerate(optimal_labels_one) for i in g])\n",
    "    pop_type_assign = pop_data.set_index(cell_label).join(pd.Series(assignment,name='assignment'))\n",
    "    pop_type_assign = pop_type_assign[pop_type_assign.assignment.notnull()]\n",
    "    \n",
    "    distribution[label] = \\\n",
    "        pop_type_assign\\\n",
    "            .groupby('assignment')\\\n",
    "            .apply(lambda g: g[years].dropna(how='all',axis=1).sum(axis=0).min())"
   ]
  },
  {
   "cell_type": "markdown",
   "metadata": {},
   "source": [
    "Verify population minimums"
   ]
  },
  {
   "cell_type": "code",
   "execution_count": 20,
   "metadata": {},
   "outputs": [],
   "source": [
    "assert(min(distribution['pers'].min()>=100, distribution['hh'].min()>=50))"
   ]
  },
  {
   "cell_type": "markdown",
   "metadata": {},
   "source": [
    "Make histograms for number of persons and households in the final partitions"
   ]
  },
  {
   "cell_type": "code",
   "execution_count": 22,
   "metadata": {},
   "outputs": [
    {
     "name": "stderr",
     "output_type": "stream",
     "text": [
      "C:\\Users\\bvq720\\Anaconda3\\envs\\privacy_spatial\\lib\\site-packages\\pandas\\plotting\\_matplotlib\\tools.py:400: MatplotlibDeprecationWarning: \n",
      "The is_first_col function was deprecated in Matplotlib 3.4 and will be removed two minor releases later. Use ax.get_subplotspec().is_first_col() instead.\n",
      "  if ax.is_first_col():\n"
     ]
    },
    {
     "data": {
      "text/plain": [
       "<AxesSubplot:ylabel='Frequency'>"
      ]
     },
     "execution_count": 22,
     "metadata": {},
     "output_type": "execute_result"
    },
    {
     "data": {
      "image/png": "[encoded data removed]",
      "text/plain": [
       "<Figure size 864x288 with 2 Axes>"
      ]
     },
     "metadata": {
      "needs_background": "light"
     },
     "output_type": "display_data"
    }
   ],
   "source": [
    "f,ax = plt.subplots(1,2, figsize=(12,4))\n",
    "distribution['pers'].plot.hist(bins=100,log=True, ax=ax[0])\n",
    "distribution['hh'].plot.hist(bins=100,log=True, ax=ax[1])"
   ]
  },
  {
   "cell_type": "markdown",
   "metadata": {},
   "source": [
    "Count unassigned population for each year"
   ]
  },
  {
   "cell_type": "code",
   "execution_count": 23,
   "metadata": {},
   "outputs": [],
   "source": [
    "from sqr.core.config import mean_cols, minimum_cols\n",
    "\n",
    "info = []\n",
    "for idx, row in gdf_kommuner.iterrows():        \n",
    "    info += [pd.read_hdf(mun_file, key=f'sqidx{idx}').assign(KOMNAVN=row.KOMNAVN)]\n",
    "kominfo = pd.concat(info)"
   ]
  },
  {
   "cell_type": "code",
   "execution_count": 24,
   "metadata": {},
   "outputs": [
    {
     "data": {
      "text/html": [
       "<div>\n",
       "<style scoped>\n",
       "    .dataframe tbody tr th:only-of-type {\n",
       "        vertical-align: middle;\n",
       "    }\n",
       "\n",
       "    .dataframe tbody tr th {\n",
       "        vertical-align: top;\n",
       "    }\n",
       "\n",
       "    .dataframe thead tr th {\n",
       "        text-align: left;\n",
       "    }\n",
       "\n",
       "    .dataframe thead tr:last-of-type th {\n",
       "        text-align: right;\n",
       "    }\n",
       "</style>\n",
       "<table border=\"1\" class=\"dataframe\">\n",
       "  <thead>\n",
       "    <tr>\n",
       "      <th></th>\n",
       "      <th colspan=\"2\" halign=\"left\">mean_pers</th>\n",
       "      <th colspan=\"2\" halign=\"left\">mean_hh</th>\n",
       "      <th colspan=\"2\" halign=\"left\">minimum_pers</th>\n",
       "      <th colspan=\"2\" halign=\"left\">minimum_hh</th>\n",
       "    </tr>\n",
       "    <tr>\n",
       "      <th></th>\n",
       "      <th>sum</th>\n",
       "      <th>mean</th>\n",
       "      <th>sum</th>\n",
       "      <th>mean</th>\n",
       "      <th>sum</th>\n",
       "      <th>mean</th>\n",
       "      <th>sum</th>\n",
       "      <th>mean</th>\n",
       "    </tr>\n",
       "    <tr>\n",
       "      <th>KOMNAVN</th>\n",
       "      <th></th>\n",
       "      <th></th>\n",
       "      <th></th>\n",
       "      <th></th>\n",
       "      <th></th>\n",
       "      <th></th>\n",
       "      <th></th>\n",
       "      <th></th>\n",
       "    </tr>\n",
       "  </thead>\n",
       "  <tbody>\n",
       "    <tr>\n",
       "      <th>Albertslund</th>\n",
       "      <td>306.5</td>\n",
       "      <td>3.605882</td>\n",
       "      <td>159.4</td>\n",
       "      <td>1.875294</td>\n",
       "      <td>110.0</td>\n",
       "      <td>1.294118</td>\n",
       "      <td>38.0</td>\n",
       "      <td>0.447059</td>\n",
       "    </tr>\n",
       "    <tr>\n",
       "      <th>Ballerup</th>\n",
       "      <td>118.6</td>\n",
       "      <td>3.041026</td>\n",
       "      <td>62.0</td>\n",
       "      <td>1.589744</td>\n",
       "      <td>36.0</td>\n",
       "      <td>0.923077</td>\n",
       "      <td>12.0</td>\n",
       "      <td>0.307692</td>\n",
       "    </tr>\n",
       "    <tr>\n",
       "      <th>Bornholm</th>\n",
       "      <td>827.6</td>\n",
       "      <td>1.501996</td>\n",
       "      <td>410.2</td>\n",
       "      <td>0.744465</td>\n",
       "      <td>110.0</td>\n",
       "      <td>0.199637</td>\n",
       "      <td>20.0</td>\n",
       "      <td>0.036298</td>\n",
       "    </tr>\n",
       "    <tr>\n",
       "      <th>Brøndby</th>\n",
       "      <td>50.1</td>\n",
       "      <td>2.178261</td>\n",
       "      <td>29.0</td>\n",
       "      <td>1.260870</td>\n",
       "      <td>11.0</td>\n",
       "      <td>0.478261</td>\n",
       "      <td>1.0</td>\n",
       "      <td>0.043478</td>\n",
       "    </tr>\n",
       "    <tr>\n",
       "      <th>Frederiksberg</th>\n",
       "      <td>5.4</td>\n",
       "      <td>5.400000</td>\n",
       "      <td>3.2</td>\n",
       "      <td>3.200000</td>\n",
       "      <td>1.0</td>\n",
       "      <td>1.000000</td>\n",
       "      <td>0.0</td>\n",
       "      <td>0.000000</td>\n",
       "    </tr>\n",
       "  </tbody>\n",
       "</table>\n",
       "</div>"
      ],
      "text/plain": [
       "              mean_pers           mean_hh           minimum_pers            \\\n",
       "                    sum      mean     sum      mean          sum      mean   \n",
       "KOMNAVN                                                                      \n",
       "Albertslund       306.5  3.605882   159.4  1.875294        110.0  1.294118   \n",
       "Ballerup          118.6  3.041026    62.0  1.589744         36.0  0.923077   \n",
       "Bornholm          827.6  1.501996   410.2  0.744465        110.0  0.199637   \n",
       "Brøndby            50.1  2.178261    29.0  1.260870         11.0  0.478261   \n",
       "Frederiksberg       5.4  5.400000     3.2  3.200000          1.0  1.000000   \n",
       "\n",
       "              minimum_hh            \n",
       "                     sum      mean  \n",
       "KOMNAVN                             \n",
       "Albertslund         38.0  0.447059  \n",
       "Ballerup            12.0  0.307692  \n",
       "Bornholm            20.0  0.036298  \n",
       "Brøndby              1.0  0.043478  \n",
       "Frederiksberg        0.0  0.000000  "
      ]
     },
     "execution_count": 24,
     "metadata": {},
     "output_type": "execute_result"
    }
   ],
   "source": [
    "kominfo[~kominfo[cell_label].isin(is_assigned)]\\\n",
    ".groupby(['KOMNAVN'])\\\n",
    "[mean_cols+minimum_cols]\\\n",
    ".agg(['sum', 'mean'])"
   ]
  },
  {
   "cell_type": "code",
   "execution_count": 27,
   "metadata": {},
   "outputs": [
    {
     "name": "stderr",
     "output_type": "stream",
     "text": [
      "C:\\Users\\bvq720\\Anaconda3\\envs\\privacy_spatial\\lib\\site-packages\\pyproj\\crs\\crs.py:53: FutureWarning: '+init=<authority>:<code>' syntax is deprecated. '<authority>:<code>' is the preferred initialization method. When making the change, be mindful of axis order changes: https://pyproj4.github.io/pyproj/stable/gotchas.html#axis-order-changes-in-proj-6\n",
      "  return _prepare_from_string(\" \".join(pjargs))\n"
     ]
    },
    {
     "data": {
      "text/plain": [
       "<AxesSubplot:>"
      ]
     },
     "execution_count": 27,
     "metadata": {},
     "output_type": "execute_result"
    },
    {
     "data": {
      "image/png": "[encoded data removed]",
      "text/plain": [
       "<Figure size 432x288 with 1 Axes>"
      ]
     },
     "metadata": {
      "needs_background": "light"
     },
     "output_type": "display_data"
    }
   ],
   "source": [
    "gdf_k = make_gdf_square_data(kominfo[kominfo.KOMNAVN=='Frederiksberg'])\n",
    "gdf_k.merge(assignment_opt).plot(column='partition')"
   ]
  },
  {
   "cell_type": "code",
   "execution_count": 26,
   "metadata": {},
   "outputs": [
    {
     "data": {
      "text/html": [
       "<div>\n",
       "<style scoped>\n",
       "    .dataframe tbody tr th:only-of-type {\n",
       "        vertical-align: middle;\n",
       "    }\n",
       "\n",
       "    .dataframe tbody tr th {\n",
       "        vertical-align: top;\n",
       "    }\n",
       "\n",
       "    .dataframe thead tr th {\n",
       "        text-align: left;\n",
       "    }\n",
       "\n",
       "    .dataframe thead tr:last-of-type th {\n",
       "        text-align: right;\n",
       "    }\n",
       "</style>\n",
       "<table border=\"1\" class=\"dataframe\">\n",
       "  <thead>\n",
       "    <tr>\n",
       "      <th></th>\n",
       "      <th colspan=\"2\" halign=\"left\">mean_pers</th>\n",
       "      <th colspan=\"2\" halign=\"left\">mean_hh</th>\n",
       "      <th colspan=\"2\" halign=\"left\">minimum_pers</th>\n",
       "      <th colspan=\"2\" halign=\"left\">minimum_hh</th>\n",
       "    </tr>\n",
       "    <tr>\n",
       "      <th></th>\n",
       "      <th>sum</th>\n",
       "      <th>mean</th>\n",
       "      <th>sum</th>\n",
       "      <th>mean</th>\n",
       "      <th>sum</th>\n",
       "      <th>mean</th>\n",
       "      <th>sum</th>\n",
       "      <th>mean</th>\n",
       "    </tr>\n",
       "    <tr>\n",
       "      <th>KOMNAVN</th>\n",
       "      <th></th>\n",
       "      <th></th>\n",
       "      <th></th>\n",
       "      <th></th>\n",
       "      <th></th>\n",
       "      <th></th>\n",
       "      <th></th>\n",
       "      <th></th>\n",
       "    </tr>\n",
       "  </thead>\n",
       "  <tbody>\n",
       "    <tr>\n",
       "      <th>Albertslund</th>\n",
       "      <td>306.5</td>\n",
       "      <td>3.605882</td>\n",
       "      <td>159.4</td>\n",
       "      <td>1.875294</td>\n",
       "      <td>110.0</td>\n",
       "      <td>1.294118</td>\n",
       "      <td>38.0</td>\n",
       "      <td>0.447059</td>\n",
       "    </tr>\n",
       "    <tr>\n",
       "      <th>Ballerup</th>\n",
       "      <td>118.6</td>\n",
       "      <td>3.041026</td>\n",
       "      <td>62.0</td>\n",
       "      <td>1.589744</td>\n",
       "      <td>36.0</td>\n",
       "      <td>0.923077</td>\n",
       "      <td>12.0</td>\n",
       "      <td>0.307692</td>\n",
       "    </tr>\n",
       "    <tr>\n",
       "      <th>Bornholm</th>\n",
       "      <td>827.6</td>\n",
       "      <td>1.501996</td>\n",
       "      <td>410.2</td>\n",
       "      <td>0.744465</td>\n",
       "      <td>110.0</td>\n",
       "      <td>0.199637</td>\n",
       "      <td>20.0</td>\n",
       "      <td>0.036298</td>\n",
       "    </tr>\n",
       "    <tr>\n",
       "      <th>Brøndby</th>\n",
       "      <td>50.1</td>\n",
       "      <td>2.178261</td>\n",
       "      <td>29.0</td>\n",
       "      <td>1.260870</td>\n",
       "      <td>11.0</td>\n",
       "      <td>0.478261</td>\n",
       "      <td>1.0</td>\n",
       "      <td>0.043478</td>\n",
       "    </tr>\n",
       "    <tr>\n",
       "      <th>Frederiksberg</th>\n",
       "      <td>5.4</td>\n",
       "      <td>5.400000</td>\n",
       "      <td>3.2</td>\n",
       "      <td>3.200000</td>\n",
       "      <td>1.0</td>\n",
       "      <td>1.000000</td>\n",
       "      <td>0.0</td>\n",
       "      <td>0.000000</td>\n",
       "    </tr>\n",
       "  </tbody>\n",
       "</table>\n",
       "</div>"
      ],
      "text/plain": [
       "              mean_pers           mean_hh           minimum_pers            \\\n",
       "                    sum      mean     sum      mean          sum      mean   \n",
       "KOMNAVN                                                                      \n",
       "Albertslund       306.5  3.605882   159.4  1.875294        110.0  1.294118   \n",
       "Ballerup          118.6  3.041026    62.0  1.589744         36.0  0.923077   \n",
       "Bornholm          827.6  1.501996   410.2  0.744465        110.0  0.199637   \n",
       "Brøndby            50.1  2.178261    29.0  1.260870         11.0  0.478261   \n",
       "Frederiksberg       5.4  5.400000     3.2  3.200000          1.0  1.000000   \n",
       "\n",
       "              minimum_hh            \n",
       "                     sum      mean  \n",
       "KOMNAVN                             \n",
       "Albertslund         38.0  0.447059  \n",
       "Ballerup            12.0  0.307692  \n",
       "Bornholm            20.0  0.036298  \n",
       "Brøndby              1.0  0.043478  \n",
       "Frederiksberg        0.0  0.000000  "
      ]
     },
     "execution_count": 26,
     "metadata": {},
     "output_type": "execute_result"
    }
   ],
   "source": [
    "kominfo[~kominfo[cell_label].isin(is_assigned)]\\\n",
    ".groupby(['KOMNAVN'])\\\n",
    "[mean_cols+minimum_cols]\\\n",
    ".agg(['sum', 'mean'])"
   ]
  },
  {
   "cell_type": "markdown",
   "metadata": {},
   "source": [
    "Distribution of unassigned persons and households"
   ]
  },
  {
   "cell_type": "code",
   "execution_count": 80,
   "metadata": {},
   "outputs": [
    {
     "name": "stderr",
     "output_type": "stream",
     "text": [
      "C:\\Users\\bvq720\\Anaconda3\\envs\\privacy_spatial\\lib\\site-packages\\pandas\\plotting\\_matplotlib\\tools.py:400: MatplotlibDeprecationWarning: \n",
      "The is_first_col function was deprecated in Matplotlib 3.4 and will be removed two minor releases later. Use ax.get_subplotspec().is_first_col() instead.\n",
      "  if ax.is_first_col():\n",
      "C:\\Users\\bvq720\\Anaconda3\\envs\\privacy_spatial\\lib\\site-packages\\pandas\\plotting\\_matplotlib\\tools.py:400: MatplotlibDeprecationWarning: \n",
      "The is_first_col function was deprecated in Matplotlib 3.4 and will be removed two minor releases later. Use ax.get_subplotspec().is_first_col() instead.\n",
      "  if ax.is_first_col():\n"
     ]
    },
    {
     "name": "stdout",
     "output_type": "stream",
     "text": [
      "hh\n",
      "4172    7343\n",
      "4835      33\n",
      "4815      28\n",
      "4796      17\n",
      "2121      13\n",
      "dtype: int64\n",
      "\n",
      "\n",
      "pers\n",
      "4173    14538\n",
      "4816       65\n",
      "4836       65\n",
      "4797       39\n",
      "2121       29\n",
      "dtype: int64\n",
      "\n",
      "\n"
     ]
    },
    {
     "data": {
      "image/png": "[encoded data removed]",
      "text/plain": [
       "<Figure size 864x576 with 4 Axes>"
      ]
     },
     "metadata": {
      "needs_background": "light"
     },
     "output_type": "display_data"
    }
   ],
   "source": [
    "f,ax = plt.subplots(2,2,figsize=(12,8))\n",
    "\n",
    "for i, label in enumerate(['hh', 'pers']):\n",
    "    pop_data = pd.read_hdf('data/parsed/KN100m_pop.hdf', key=label)\n",
    "    pop_unassigned_years = pop_data[~pop_data[cell_label].isin(is_assigned)][years].fillna(0)\n",
    "    pop_unassigned_years.sum(axis=0).plot(ax=ax[0][i], title=f'unassigned by year (data: {label})')\n",
    "    \n",
    "    pop_unassigned = pop_data[~pop_data[cell_label].isin(is_assigned)][years].fillna(0).mean(axis=1)\n",
    "    pop_unassigned.plot.hist(bins=50,range=[0,100], ax=ax[1][i], title=f'unassigned distribution (data: {label})')\n",
    "    \n",
    "    largest = pop_data[~pop_data[cell_label].isin(is_assigned)].min(1).nlargest(5)\n",
    "    \n",
    "    print(label)\n",
    "    print(largest)\n",
    "    print('\\n')\n",
    "    "
   ]
  }
 ],
 "metadata": {
  "anaconda-cloud": {},
  "kernelspec": {
   "display_name": "privacy_spatial",
   "language": "python",
   "name": "privacy_spatial"
  },
  "language_info": {
   "codemirror_mode": {
    "name": "ipython",
    "version": 3
   },
   "file_extension": ".py",
   "mimetype": "text/x-python",
   "name": "python",
   "nbconvert_exporter": "python",
   "pygments_lexer": "ipython3",
   "version": "3.7.10"
  }
 },
 "nbformat": 4,
 "nbformat_minor": 4
}
